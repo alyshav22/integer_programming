{
 "cells": [
  {
   "cell_type": "markdown",
   "metadata": {},
   "source": [
    "# Integer Programming "
   ]
  },
  {
   "cell_type": "markdown",
   "metadata": {},
   "source": [
    "#### By Alysha Velasquez <br>"
   ]
  },
  {
   "cell_type": "markdown",
   "metadata": {},
   "source": [
    "   In this problem, integer programming was used to produce dog food products as inexpensive as possible, while also meeting nutritional standards. The possible ingredients include poultry, beef, and corn that cost 0.005, 0.013, and 0.002, respectively. Each ingredient contributes to the total weight of protein, fat, and fiber in the final product. Using these ingredients, the goal is to vary the quantities of each ingredient, while also meeting the stated nutritional analysis requirements displayed on the cans.\n",
    "<br>"
   ]
  },
  {
   "cell_type": "markdown",
   "metadata": {},
   "source": [
    "##### Python Process:"
   ]
  },
  {
   "cell_type": "code",
   "execution_count": 13,
   "metadata": {},
   "outputs": [],
   "source": [
    "# Import PuLP modeler functions\n",
    "from pulp import *"
   ]
  },
  {
   "cell_type": "code",
   "execution_count": 14,
   "metadata": {},
   "outputs": [],
   "source": [
    "# Creates a list of the Ingredients\n",
    "Ingredients = ['POULTRY', 'BEEF','CORN']\n",
    "\n",
    "# A dictionary of the costs of each of the Ingredients is created\n",
    "costs = {'POULTRY': 0.005, \n",
    "         'BEEF': 0.013, \n",
    "         'CORN': 0.002}\n",
    "\n",
    "# A dictionary of the protein percent in each of the Ingredients is created\n",
    "proteinPercent = {'POULTRY': 0.100, \n",
    "                  'BEEF': 0.200,  \n",
    "                  'CORN': 0.000}\n",
    "\n",
    "# A dictionary of the fat percent in each of the Ingredients is created\n",
    "fatPercent = {'POULTRY': 0.080, \n",
    "              'BEEF': 0.100,   \n",
    "              'CORN': 0.000}\n",
    "\n",
    "# A dictionary of the fiber percent in each of the Ingredients is created\n",
    "fiberPercent = {'POULTRY': 0.001, \n",
    "                'BEEF': 0.005,  \n",
    "                'CORN': 0.000}"
   ]
  },
  {
   "cell_type": "code",
   "execution_count": 15,
   "metadata": {},
   "outputs": [],
   "source": [
    "# Create the 'prob' variable to contain the problem data\n",
    "prob = LpProblem(\"The Dog Food Problem\", LpMinimize)"
   ]
  },
  {
   "cell_type": "code",
   "execution_count": 16,
   "metadata": {},
   "outputs": [],
   "source": [
    "# A dictionary called 'ingredient_vars' is created to contain the referenced Variables\n",
    "ingredient_vars = LpVariable.dicts(\"Ingr\",Ingredients,0)"
   ]
  },
  {
   "cell_type": "code",
   "execution_count": 17,
   "metadata": {},
   "outputs": [],
   "source": [
    "# The objective function is added to 'prob' first\n",
    "prob += lpSum([costs[i]*ingredient_vars[i] for i in Ingredients]), \"Total Cost of Ingredients per can\""
   ]
  },
  {
   "cell_type": "code",
   "execution_count": 18,
   "metadata": {},
   "outputs": [],
   "source": [
    "# The constraints are added to 'prob'\n",
    "# The constraints on the variable must sum to 100 and that the nutritional requirements are met\n",
    "\n",
    "prob += lpSum([ingredient_vars[i] for i in Ingredients]) == 100, \"PercentagesSum\"\n",
    "prob += lpSum([proteinPercent[i] * ingredient_vars[i] for i in Ingredients]) >= 8.0, \"ProteinRequirement\"\n",
    "prob += lpSum([fatPercent[i] * ingredient_vars[i] for i in Ingredients]) >= 6.0, \"FatRequirement\"\n",
    "prob += lpSum([fiberPercent[i] * ingredient_vars[i] for i in Ingredients]) <= 2.0, \"FiberRequirement\""
   ]
  },
  {
   "cell_type": "code",
   "execution_count": 19,
   "metadata": {},
   "outputs": [],
   "source": [
    "# The problem data is written to an .lp file\n",
    "prob.writeLP(\"dogFoodModel.lp\")"
   ]
  },
  {
   "cell_type": "code",
   "execution_count": 20,
   "metadata": {},
   "outputs": [
    {
     "data": {
      "text/plain": [
       "1"
      ]
     },
     "execution_count": 20,
     "metadata": {},
     "output_type": "execute_result"
    }
   ],
   "source": [
    "# The problem is solved using PuLP's choice of Solver\n",
    "prob.solve()"
   ]
  },
  {
   "cell_type": "code",
   "execution_count": 21,
   "metadata": {},
   "outputs": [
    {
     "name": "stdout",
     "output_type": "stream",
     "text": [
      "Status: Optimal\n"
     ]
    }
   ],
   "source": [
    "# The status of the solution is printed to the screen\n",
    "print (\"Status:\", LpStatus[prob.status])"
   ]
  },
  {
   "cell_type": "code",
   "execution_count": 22,
   "metadata": {},
   "outputs": [
    {
     "name": "stdout",
     "output_type": "stream",
     "text": [
      "Ingr_BEEF = 0.0\n",
      "Ingr_CORN = 20.0\n",
      "Ingr_POULTRY = 80.0\n"
     ]
    }
   ],
   "source": [
    "# Each of the variables is printed with it's resolved optimum value\n",
    "for v in prob.variables():\n",
    "    print (v.name, \"=\", v.varValue)"
   ]
  },
  {
   "cell_type": "code",
   "execution_count": 23,
   "metadata": {},
   "outputs": [
    {
     "name": "stdout",
     "output_type": "stream",
     "text": [
      "Total Cost of Ingredients per can =  0.44\n"
     ]
    }
   ],
   "source": [
    "# The optimised objective function value is printed to the screen    \n",
    "print (\"Total Cost of Ingredients per can = \", value(prob.objective))"
   ]
  },
  {
   "cell_type": "markdown",
   "metadata": {},
   "source": [
    "##### Conclusion:"
   ]
  },
  {
   "cell_type": "markdown",
   "metadata": {},
   "source": [
    "   The purpose of this example was to use integer programming to produce dog food products as inexpensive as possible, while still meeting nutritional requirements. The potential ingredients include poultry, beef, and corn, which cost 0.005, 0.013, and 0.002, respectively. To find the optimal solution, we identified the decision variables and formulated the objective function and the constraints. The decision variables of this problem were the different percentages of ingredients we include in the can. Since the can is 100g, these percentages also represent the number of grams of each ingredient. \n",
    "    \n",
    "   Afterward, we formulated the objective function, which aimed to minimize the total cost of ingredients per can of dog food. Later, we specified the constraints of the dog food problem. The constraints were the sum of the percentages must equal 100%, and the stated nutritional analysis requirements are met. The results reveal the optimal solution is 80% poultry and 20% corn leading to an objective function value of 44 cents per can."
   ]
  }
 ],
 "metadata": {
  "kernelspec": {
   "display_name": "Python 3",
   "language": "python",
   "name": "python3"
  },
  "language_info": {
   "codemirror_mode": {
    "name": "ipython",
    "version": 3
   },
   "file_extension": ".py",
   "mimetype": "text/x-python",
   "name": "python",
   "nbconvert_exporter": "python",
   "pygments_lexer": "ipython3",
   "version": "3.7.4"
  }
 },
 "nbformat": 4,
 "nbformat_minor": 4
}
